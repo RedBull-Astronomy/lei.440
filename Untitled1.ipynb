{
  "nbformat": 4,
  "nbformat_minor": 0,
  "metadata": {
    "colab": {
      "provenance": [],
      "authorship_tag": "ABX9TyN173SxVr6YB6vtY0SYu43R",
      "include_colab_link": true
    },
    "kernelspec": {
      "name": "python3",
      "display_name": "Python 3"
    },
    "language_info": {
      "name": "python"
    }
  },
  "cells": [
    {
      "cell_type": "markdown",
      "metadata": {
        "id": "view-in-github",
        "colab_type": "text"
      },
      "source": [
        "<a href=\"https://colab.research.google.com/github/RedBull-Astronomy/lei.440/blob/main/Untitled1.ipynb\" target=\"_parent\"><img src=\"https://colab.research.google.com/assets/colab-badge.svg\" alt=\"Open In Colab\"/></a>"
      ]
    },
    {
      "cell_type": "code",
      "execution_count": 2,
      "metadata": {
        "id": "3dT_c6F7bYlA"
      },
      "outputs": [],
      "source": [
        "import astropy.constants as ac # import a Python package to call the value of certain constants.\n",
        "import astropy.units as u # import a Python package to call certain units, e.g., the mass of the sun.\n",
        "import numpy as np# import numpy package which allows us to conduct mathmatical operations for the defined quantities."
      ]
    },
    {
      "cell_type": "code",
      "source": [
        "def calculatingOrbitalVelocityc(M,R):\n",
        "  #This is a function that calculate the orbital velocity\n",
        "  #input: M:mass R:orbital radius\n",
        "    calculatingOrbitalVelocityc = np.sqrt(ac.G*M/R)\n",
        "    return calculatingOrbitalVelocityc\n",
        "    print(\"hello from a function\")\n",
        ""
      ],
      "metadata": {
        "id": "GqDDhiUebnCP"
      },
      "execution_count": 3,
      "outputs": []
    },
    {
      "cell_type": "code",
      "source": [
        "# Below we input M and R\n",
        "M = 1 * u.earthMass\n",
        "R = 1 * u.earthRad\n",
        "\n",
        "#calculating orbital velocity of an earth satellite\n",
        "v_earthSatellite = calculatingOrbitalVelocityc(M,R)\n",
        "#Using the predefined function\n",
        "print(v_earthSatellite.to(u.km/u.s))"
      ],
      "metadata": {
        "colab": {
          "base_uri": "https://localhost:8080/"
        },
        "id": "LWzI38NHdSr0",
        "outputId": "cd20d63a-b8b6-41fb-f916-275744e16d29"
      },
      "execution_count": 5,
      "outputs": [
        {
          "output_type": "stream",
          "name": "stdout",
          "text": [
            "7.905388234385281 km / s\n"
          ]
        }
      ]
    },
    {
      "cell_type": "markdown",
      "source": [
        "We are going to introduce the concept of an array"
      ],
      "metadata": {
        "id": "NGHtZsWHfJlE"
      }
    },
    {
      "cell_type": "code",
      "source": [
        " #Orbital  radius of the eight solar system planets from inside out\n",
        " #Mercuty,Venus,Earth,Mars,Jupiter,Saturn,Uranus,Neptune\n",
        "R_planet_arr = np.array([0.4,0.7,1.0,1.5,5.2,9.6,19.2,30.1])*u.au\n"
      ],
      "metadata": {
        "id": "3s1CUdK6e8c7"
      },
      "execution_count": 8,
      "outputs": []
    },
    {
      "cell_type": "code",
      "source": [
        "# Now we calculate the orbital velocities for eight planets\n",
        "M_sun = 1 * u.solMass\n",
        "v_planet_arr = calculatingOrbitalVelocityc(M_sun,R_planet_arr)\n",
        "print(v_planet_arr.to(u.km/u.s))"
      ],
      "metadata": {
        "colab": {
          "base_uri": "https://localhost:8080/"
        },
        "id": "FgMXKucmgeOm",
        "outputId": "cc52a7fe-1488-4234-988f-e4e0de68a74c"
      },
      "execution_count": 10,
      "outputs": [
        {
          "output_type": "stream",
          "name": "stdout",
          "text": [
            "[47.09373279 35.5995158  29.78469183 24.31909904 13.06145141  9.61296795\n",
            "  6.79739483  5.42887526] km / s\n"
          ]
        }
      ]
    },
    {
      "cell_type": "code",
      "source": [
        "# prompt: can you help me with plotting v_planet_arr and R_planet_arr\n",
        "\n",
        "import matplotlib.pyplot as plt# importing plotting package\n",
        "\n",
        "plt.plot(R_planet_arr, v_planet_arr.to(u.km/u.s))#Plotting velosity vs.\n",
        "plt.xlabel('Orbital Radius (AU)'.format(R_planet_arr.unit))# add x axis\n",
        "plt.ylabel('Orbital Velocity (km/s)'.format(v_planet_arr.unit))# add y axis\n",
        "plt.title('Orbital Velocity vs. Radius for Planets')\n",
        "plt.show()\n"
      ],
      "metadata": {
        "colab": {
          "base_uri": "https://localhost:8080/",
          "height": 472
        },
        "id": "3QXKPwuChiPR",
        "outputId": "af8a6e1f-e554-444a-abfa-a09c3cb02499"
      },
      "execution_count": 12,
      "outputs": [
        {
          "output_type": "display_data",
          "data": {
            "text/plain": [
              "<Figure size 640x480 with 1 Axes>"
            ],
            "image/png": "[encoded data removed]"
          },
          "metadata": {}
        }
      ]
    },
    {
      "cell_type": "code",
      "source": [
        "# prompt: let M be the mass of the back hole that set on the center of the milky way. R be the radius of he back hole that set on the center of the milky way\n",
        "\n",
        "# let M be the mass of the back hole that set on the center of the milky way. R be the radius of he back hole that set on the center of the milky way\n",
        "M_blackhole = 4.1e6 * u.solMass\n",
        "R_blackhole = 12.7e6 * u.km\n",
        "\n",
        "distance_from_BH = np.arange(1,30)*u.kpc\n",
        "\n",
        "# calculate the orbital velocity of the black hole\n",
        "v_blackhole = calculatingOrbitalVelocityc(M_blackhole, R_blackhole + distance_from_BH)\n",
        "print(v_blackhole.to(u.km/u.s))\n"
      ],
      "metadata": {
        "colab": {
          "base_uri": "https://localhost:8080/"
        },
        "id": "5wn6Zr4LjESG",
        "outputId": "865397db-834c-4b63-a931-4c398ac4856b"
      },
      "execution_count": 25,
      "outputs": [
        {
          "output_type": "stream",
          "name": "stdout",
          "text": [
            "[4.19925717 2.96932322 2.42444226 2.09962859 1.8779649  1.71433956\n",
            " 1.58717002 1.48466161 1.39975239 1.32792171 1.26612368 1.21222113\n",
            " 1.16466439 1.12229869 1.08424354 1.04981429 1.01846946 0.98977441\n",
            " 0.96337567 0.93898245 0.91635304 0.89528464 0.87560565 0.85716978\n",
            " 0.83985143 0.82354209 0.80814742 0.79358501 0.77978248] km / s\n"
          ]
        }
      ]
    }
  ]
}